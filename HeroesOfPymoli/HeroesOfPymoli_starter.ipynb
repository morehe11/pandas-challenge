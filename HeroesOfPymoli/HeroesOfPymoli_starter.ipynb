{
 "cells": [
  {
   "cell_type": "code",
   "execution_count": 124,
   "metadata": {},
   "outputs": [],
   "source": [
    "# Dependencies and Setup\n",
    "import pandas as pd\n",
    "\n",
    "# File to Load (Remember to Change These)\n",
    "file_to_load = \"Resources/purchase_data.csv\"\n",
    "\n",
    "# Read Purchasing File and store into Pandas data frame\n",
    "purchase_data_df = pd.read_csv(file_to_load)"
   ]
  },
  {
   "cell_type": "code",
   "execution_count": 125,
   "metadata": {},
   "outputs": [
    {
     "output_type": "execute_result",
     "data": {
      "text/plain": [
       "   Total Players\n",
       "0            576"
      ],
      "text/html": "<div>\n<style scoped>\n    .dataframe tbody tr th:only-of-type {\n        vertical-align: middle;\n    }\n\n    .dataframe tbody tr th {\n        vertical-align: top;\n    }\n\n    .dataframe thead th {\n        text-align: right;\n    }\n</style>\n<table border=\"1\" class=\"dataframe\">\n  <thead>\n    <tr style=\"text-align: right;\">\n      <th></th>\n      <th>Total Players</th>\n    </tr>\n  </thead>\n  <tbody>\n    <tr>\n      <th>0</th>\n      <td>576</td>\n    </tr>\n  </tbody>\n</table>\n</div>"
     },
     "metadata": {},
     "execution_count": 125
    }
   ],
   "source": [
    "#Total Number of Players\n",
    "total_players= len(purchase_data_df[\"SN\"].unique())\n",
    "total_players\n",
    "\n",
    "total_players_df=pd.DataFrame({\"Total Players\": [total_players]})\n",
    "total_players_df"
   ]
  },
  {
   "cell_type": "markdown",
   "metadata": {},
   "source": [
    "## Purchasing Analysis (Total)"
   ]
  },
  {
   "cell_type": "code",
   "execution_count": 126,
   "metadata": {
    "scrolled": true
   },
   "outputs": [
    {
     "output_type": "execute_result",
     "data": {
      "text/plain": [
       "   Number of Unique Items  Average Price  Number of Purchases  Total Revenue\n",
       "0                     179       3.050987                  780        2379.77"
      ],
      "text/html": "<div>\n<style scoped>\n    .dataframe tbody tr th:only-of-type {\n        vertical-align: middle;\n    }\n\n    .dataframe tbody tr th {\n        vertical-align: top;\n    }\n\n    .dataframe thead th {\n        text-align: right;\n    }\n</style>\n<table border=\"1\" class=\"dataframe\">\n  <thead>\n    <tr style=\"text-align: right;\">\n      <th></th>\n      <th>Number of Unique Items</th>\n      <th>Average Price</th>\n      <th>Number of Purchases</th>\n      <th>Total Revenue</th>\n    </tr>\n  </thead>\n  <tbody>\n    <tr>\n      <th>0</th>\n      <td>179</td>\n      <td>3.050987</td>\n      <td>780</td>\n      <td>2379.77</td>\n    </tr>\n  </tbody>\n</table>\n</div>"
     },
     "metadata": {},
     "execution_count": 126
    }
   ],
   "source": [
    "#Number of items\n",
    "Unique_items= len(purchase_data_df[\"Item Name\"].unique())\n",
    "Unique_items\n",
    "#Average price \n",
    "Average_price= purchase_data_df[\"Price\"].mean()\n",
    "Average_price\n",
    "#total \n",
    "Total_number= len(purchase_data_df[\"Purchase ID\"])\n",
    "Total_number\n",
    "#total revenue\n",
    "Total_Revenue = purchase_data_df[\"Price\"].sum()\n",
    "Total_Revenue\n",
    "\n",
    "#Summary DF\n",
    "Purchasing_analysis_df = pd.DataFrame({\"Number of Unique Items\":         [Unique_items], \"Average Price\": [Average_price],       \"Number of Purchases\": [Total_number], \"Total Revenue\": [Total_Revenue]})\n",
    "\n",
    "Purchasing_analysis_df"
   ]
  },
  {
   "cell_type": "markdown",
   "metadata": {},
   "source": [
    "## Gender Demographics"
   ]
  },
  {
   "cell_type": "code",
   "execution_count": 127,
   "metadata": {},
   "outputs": [],
   "source": [
    "#Percentage and Count of Male Players\n",
    "male_player_count = purchase_data_df.loc[purchase_data_df[\"Gender\"]==\"Male\",\"SN\"]\n",
    "total_male= len(male_player_count.unique())\n",
    "percent_male = round((total_male/total_players)*100)\n"
   ]
  },
  {
   "cell_type": "code",
   "execution_count": 128,
   "metadata": {},
   "outputs": [],
   "source": [
    "#Percentage and Count of Female Players\n",
    "female_player_count = purchase_data_df.loc[purchase_data_df[\"Gender\"]==\"Female\",\"SN\"]\n",
    "total_female= len(female_player_count.unique())\n",
    "percent_female = round((total_female/total_players)*100)"
   ]
  },
  {
   "cell_type": "code",
   "execution_count": 129,
   "metadata": {},
   "outputs": [],
   "source": [
    "#Percentage and Count of Other / Non-Disclosed\n",
    "other_player_count = purchase_data_df.loc[purchase_data_df[\"Gender\"]==\"Other / Non-Disclosed\",\"SN\"]\n",
    "total_other= len(other_player_count.unique())\n",
    "percent_other = round((total_other/total_players)*100,2)\n",
    "\n"
   ]
  },
  {
   "cell_type": "code",
   "execution_count": 130,
   "metadata": {},
   "outputs": [
    {
     "output_type": "execute_result",
     "data": {
      "text/plain": [
       "                     Total Count  Percentage of Players\n",
       "Gender                                                 \n",
       "Male                         484                  84.00\n",
       "Female                        81                  14.00\n",
       "Other/Non-Disclosed           11                   1.91"
      ],
      "text/html": "<div>\n<style scoped>\n    .dataframe tbody tr th:only-of-type {\n        vertical-align: middle;\n    }\n\n    .dataframe tbody tr th {\n        vertical-align: top;\n    }\n\n    .dataframe thead th {\n        text-align: right;\n    }\n</style>\n<table border=\"1\" class=\"dataframe\">\n  <thead>\n    <tr style=\"text-align: right;\">\n      <th></th>\n      <th>Total Count</th>\n      <th>Percentage of Players</th>\n    </tr>\n    <tr>\n      <th>Gender</th>\n      <th></th>\n      <th></th>\n    </tr>\n  </thead>\n  <tbody>\n    <tr>\n      <th>Male</th>\n      <td>484</td>\n      <td>84.00</td>\n    </tr>\n    <tr>\n      <th>Female</th>\n      <td>81</td>\n      <td>14.00</td>\n    </tr>\n    <tr>\n      <th>Other/Non-Disclosed</th>\n      <td>11</td>\n      <td>1.91</td>\n    </tr>\n  </tbody>\n</table>\n</div>"
     },
     "metadata": {},
     "execution_count": 130
    }
   ],
   "source": [
    "#Gender Demographics dataframe\n",
    "gender_demo_df= pd.DataFrame({\"Gender\":[\"Male\", \"Female\", \"Other/Non-Disclosed\"], \"Total Count\":[total_male, total_female, total_other], \"Percentage of Players\":[percent_male,percent_female,percent_other]})\n",
    "\n",
    "gender_demo_df.set_index(\"Gender\")\n"
   ]
  },
  {
   "cell_type": "markdown",
   "metadata": {},
   "source": [
    "\n",
    "## Purchasing Analysis (Gender)"
   ]
  },
  {
   "cell_type": "code",
   "execution_count": 131,
   "metadata": {},
   "outputs": [],
   "source": [
    "#find gender using loc function\n",
    "female_purchasing_analysis= purchase_data_df.loc[purchase_data_df[\"Gender\"]== \"Female\", \"Price\"]\n",
    "#total number of females\n",
    "female_purchasing_count= female_purchasing_analysis.count()\n",
    "#purchasing averages of females\n",
    "female_purchasing_average= female_purchasing_analysis.mean()\n",
    "#total purchase value for females\n",
    "female_purchasing_total= female_purchasing_analysis.sum()\n",
    "#average per female \n",
    "female_purchasing_average_per= (female_purchasing_total/total_female)"
   ]
  },
  {
   "cell_type": "code",
   "execution_count": 132,
   "metadata": {},
   "outputs": [],
   "source": [
    "male_purchasing_analysis= purchase_data_df.loc[purchase_data_df[\"Gender\"]== \"Male\", \"Price\"]\n",
    "male_purchasing_count= male_purchasing_analysis.count()\n",
    "male_purchasing_average= male_purchasing_analysis.mean()\n",
    "male_purchasing_total= male_purchasing_analysis.sum()\n",
    "male_purchasing_average_per= (male_purchasing_total/total_male)\n",
    "\n"
   ]
  },
  {
   "cell_type": "code",
   "execution_count": 133,
   "metadata": {},
   "outputs": [],
   "source": [
    "other_purchasing_analysis= purchase_data_df.loc[purchase_data_df[\"Gender\"]== \"Other / Non-Disclosed\", \"Price\"]\n",
    "other_purchasing_count= other_purchasing_analysis.count()\n",
    "other_purchasing_average= other_purchasing_analysis.mean()\n",
    "other_purchasing_total= other_purchasing_analysis.sum()\n",
    "other_purchasing_average_per= (other_purchasing_total/total_other)\n"
   ]
  },
  {
   "cell_type": "code",
   "execution_count": 134,
   "metadata": {},
   "outputs": [
    {
     "output_type": "execute_result",
     "data": {
      "text/plain": [
       "                     Purchase Count  Average Purchase Price  \\\n",
       "Gender                                                        \n",
       "Female                          113                3.203009   \n",
       "Male                            652                3.017853   \n",
       "Other/Non-Disclosed              15                3.346000   \n",
       "\n",
       "                      Total Purchase Value  Average Total Purchase Per Person  \n",
       "Gender                                                                         \n",
       "Female                              361.94                           4.468395  \n",
       "Male                               1967.64                           4.065372  \n",
       "Other/Non-Disclosed                  50.19                           4.562727  "
      ],
      "text/html": "<div>\n<style scoped>\n    .dataframe tbody tr th:only-of-type {\n        vertical-align: middle;\n    }\n\n    .dataframe tbody tr th {\n        vertical-align: top;\n    }\n\n    .dataframe thead th {\n        text-align: right;\n    }\n</style>\n<table border=\"1\" class=\"dataframe\">\n  <thead>\n    <tr style=\"text-align: right;\">\n      <th></th>\n      <th>Purchase Count</th>\n      <th>Average Purchase Price</th>\n      <th>Total Purchase Value</th>\n      <th>Average Total Purchase Per Person</th>\n    </tr>\n    <tr>\n      <th>Gender</th>\n      <th></th>\n      <th></th>\n      <th></th>\n      <th></th>\n    </tr>\n  </thead>\n  <tbody>\n    <tr>\n      <th>Female</th>\n      <td>113</td>\n      <td>3.203009</td>\n      <td>361.94</td>\n      <td>4.468395</td>\n    </tr>\n    <tr>\n      <th>Male</th>\n      <td>652</td>\n      <td>3.017853</td>\n      <td>1967.64</td>\n      <td>4.065372</td>\n    </tr>\n    <tr>\n      <th>Other/Non-Disclosed</th>\n      <td>15</td>\n      <td>3.346000</td>\n      <td>50.19</td>\n      <td>4.562727</td>\n    </tr>\n  </tbody>\n</table>\n</div>"
     },
     "metadata": {},
     "execution_count": 134
    }
   ],
   "source": [
    "#total gender purchasing analysis dataframe\n",
    "gender_purchasing_df= pd.DataFrame({\"Gender\":[\"Female\", \"Male\", \"Other/Non-Disclosed\"], \"Purchase Count\": [female_purchasing_count, male_purchasing_count, other_purchasing_count], \"Average Purchase Price\": [female_purchasing_average,male_purchasing_average,other_purchasing_average], \" Total Purchase Value\": [female_purchasing_total,male_purchasing_total, other_purchasing_total], \"Average Total Purchase Per Person\": [female_purchasing_average_per,male_purchasing_average_per,other_purchasing_average_per]})\n",
    "\n",
    "gender_purchasing_df.set_index(\"Gender\")"
   ]
  },
  {
   "cell_type": "markdown",
   "metadata": {},
   "source": [
    "* Establish bins for ages\n",
    "\n",
    "\n",
    "* Categorize the existing players using the age bins. Hint: use pd.cut()\n",
    "\n",
    "\n",
    "* Calculate the numbers and percentages by age group\n",
    "\n",
    "\n",
    "* Create a summary data frame to hold the results\n",
    "\n",
    "\n",
    "* Optional: round the percentage column to two decimal points\n",
    "\n",
    "\n",
    "* Display Age Demographics Table\n"
   ]
  },
  {
   "cell_type": "code",
   "execution_count": 135,
   "metadata": {},
   "outputs": [],
   "source": [
    "#groupby to find uses by Age\n",
    "unique_users = purchase_data_df.groupby(\"SN\")\n",
    "\n",
    "unique_users_df = pd.DataFrame(unique_users[\"Age\"].unique())"
   ]
  },
  {
   "cell_type": "code",
   "execution_count": 136,
   "metadata": {},
   "outputs": [],
   "source": [
    " #Establish bins for ages\n",
    " \n",
    " bins = [0,9,14,19,24,29,34,39,90]\n",
    "\n",
    "group_names = [\"<10\", \"10-14\", \"15-19\", \"20-24\", \"25-29\", \"30-34\", \"35-39\", \"40+\"]\n",
    "\n",
    "#create df to include bins and labels \n",
    "unique_users_df[\"Age Demographics\"]=pd.cut(unique_users_df[\"Age\"], bins, labels= group_names)\n"
   ]
  },
  {
   "cell_type": "code",
   "execution_count": 137,
   "metadata": {},
   "outputs": [
    {
     "output_type": "execute_result",
     "data": {
      "text/plain": [
       "                  Total Count  Percentage of Players\n",
       "Age Demographics                                    \n",
       "<10                        17               2.951389\n",
       "10-14                      22               3.819444\n",
       "15-19                     107              18.576389\n",
       "20-24                     258              44.791667\n",
       "25-29                      77              13.368056\n",
       "30-34                      52               9.027778\n",
       "35-39                      31               5.381944\n",
       "40+                        12               2.083333"
      ],
      "text/html": "<div>\n<style scoped>\n    .dataframe tbody tr th:only-of-type {\n        vertical-align: middle;\n    }\n\n    .dataframe tbody tr th {\n        vertical-align: top;\n    }\n\n    .dataframe thead th {\n        text-align: right;\n    }\n</style>\n<table border=\"1\" class=\"dataframe\">\n  <thead>\n    <tr style=\"text-align: right;\">\n      <th></th>\n      <th>Total Count</th>\n      <th>Percentage of Players</th>\n    </tr>\n    <tr>\n      <th>Age Demographics</th>\n      <th></th>\n      <th></th>\n    </tr>\n  </thead>\n  <tbody>\n    <tr>\n      <th>&lt;10</th>\n      <td>17</td>\n      <td>2.951389</td>\n    </tr>\n    <tr>\n      <th>10-14</th>\n      <td>22</td>\n      <td>3.819444</td>\n    </tr>\n    <tr>\n      <th>15-19</th>\n      <td>107</td>\n      <td>18.576389</td>\n    </tr>\n    <tr>\n      <th>20-24</th>\n      <td>258</td>\n      <td>44.791667</td>\n    </tr>\n    <tr>\n      <th>25-29</th>\n      <td>77</td>\n      <td>13.368056</td>\n    </tr>\n    <tr>\n      <th>30-34</th>\n      <td>52</td>\n      <td>9.027778</td>\n    </tr>\n    <tr>\n      <th>35-39</th>\n      <td>31</td>\n      <td>5.381944</td>\n    </tr>\n    <tr>\n      <th>40+</th>\n      <td>12</td>\n      <td>2.083333</td>\n    </tr>\n  </tbody>\n</table>\n</div>"
     },
     "metadata": {},
     "execution_count": 137
    }
   ],
   "source": [
    "#age count\n",
    "age_purchase_count= unique_users_df.groupby(\"Age Demographics\")\n",
    "age_count= age_purchase_count[\"Age\"].count()\n",
    "#age percentage \n",
    "age_percentage= (age_count/total_players)*100\n",
    "\n",
    "age_demo_df= pd.DataFrame({\"Total Count\": age_count, \"Percentage of Players\": age_percentage})\n",
    "age_demo_df"
   ]
  },
  {
   "cell_type": "markdown",
   "metadata": {},
   "source": [
    "## Purchasing Analysis (Age)"
   ]
  },
  {
   "cell_type": "code",
   "execution_count": 138,
   "metadata": {},
   "outputs": [],
   "source": [
    "#Establish bins for ages\n",
    " \n",
    "bins = [0,9,14,19,24,29,34,39,90]\n",
    "\n",
    "group_names = [\"<10\", \"10-14\", \"15-19\", \"20-24\", \"25-29\", \"30-34\", \"35-39\", \"40+\"]\n",
    "\n",
    "purchase_data_df[\"Age Demographics\"]=pd.cut(purchase_data_df[\"Age\"], bins, labels= group_names)"
   ]
  },
  {
   "cell_type": "code",
   "execution_count": 139,
   "metadata": {},
   "outputs": [],
   "source": [
    "#age data of count, price, average total and average per peson\n",
    "age_price= purchase_data_df.groupby(\"Age Demographics\")\n",
    "age_price_count = age_price[\"Price\"].count()\n",
    "average_age_price = age_price[\"Price\"].mean()\n",
    "age_price_total_count = age_price[\"Price\"].sum()\n",
    "age_average_per_person = age_price_total_count/age_count\n",
    "\n"
   ]
  },
  {
   "cell_type": "code",
   "execution_count": 140,
   "metadata": {},
   "outputs": [
    {
     "output_type": "execute_result",
     "data": {
      "text/plain": [
       "                  Purchase Count  Average Purchase Price  \\\n",
       "Age Demographics                                           \n",
       "<10                           23                3.353478   \n",
       "10-14                         28                2.956429   \n",
       "15-19                        136                3.035956   \n",
       "20-24                        365                3.052219   \n",
       "25-29                        101                2.900990   \n",
       "30-34                         73                2.931507   \n",
       "35-39                         41                3.601707   \n",
       "40+                           13                2.941538   \n",
       "\n",
       "                  Total Purchase Value  Average Total Purchase per Person  \n",
       "Age Demographics                                                           \n",
       "<10                              77.13                           4.537059  \n",
       "10-14                            82.78                           3.762727  \n",
       "15-19                           412.89                           3.858785  \n",
       "20-24                          1114.06                           4.318062  \n",
       "25-29                           293.00                           3.805195  \n",
       "30-34                           214.00                           4.115385  \n",
       "35-39                           147.67                           4.763548  \n",
       "40+                              38.24                           3.186667  "
      ],
      "text/html": "<div>\n<style scoped>\n    .dataframe tbody tr th:only-of-type {\n        vertical-align: middle;\n    }\n\n    .dataframe tbody tr th {\n        vertical-align: top;\n    }\n\n    .dataframe thead th {\n        text-align: right;\n    }\n</style>\n<table border=\"1\" class=\"dataframe\">\n  <thead>\n    <tr style=\"text-align: right;\">\n      <th></th>\n      <th>Purchase Count</th>\n      <th>Average Purchase Price</th>\n      <th>Total Purchase Value</th>\n      <th>Average Total Purchase per Person</th>\n    </tr>\n    <tr>\n      <th>Age Demographics</th>\n      <th></th>\n      <th></th>\n      <th></th>\n      <th></th>\n    </tr>\n  </thead>\n  <tbody>\n    <tr>\n      <th>&lt;10</th>\n      <td>23</td>\n      <td>3.353478</td>\n      <td>77.13</td>\n      <td>4.537059</td>\n    </tr>\n    <tr>\n      <th>10-14</th>\n      <td>28</td>\n      <td>2.956429</td>\n      <td>82.78</td>\n      <td>3.762727</td>\n    </tr>\n    <tr>\n      <th>15-19</th>\n      <td>136</td>\n      <td>3.035956</td>\n      <td>412.89</td>\n      <td>3.858785</td>\n    </tr>\n    <tr>\n      <th>20-24</th>\n      <td>365</td>\n      <td>3.052219</td>\n      <td>1114.06</td>\n      <td>4.318062</td>\n    </tr>\n    <tr>\n      <th>25-29</th>\n      <td>101</td>\n      <td>2.900990</td>\n      <td>293.00</td>\n      <td>3.805195</td>\n    </tr>\n    <tr>\n      <th>30-34</th>\n      <td>73</td>\n      <td>2.931507</td>\n      <td>214.00</td>\n      <td>4.115385</td>\n    </tr>\n    <tr>\n      <th>35-39</th>\n      <td>41</td>\n      <td>3.601707</td>\n      <td>147.67</td>\n      <td>4.763548</td>\n    </tr>\n    <tr>\n      <th>40+</th>\n      <td>13</td>\n      <td>2.941538</td>\n      <td>38.24</td>\n      <td>3.186667</td>\n    </tr>\n  </tbody>\n</table>\n</div>"
     },
     "metadata": {},
     "execution_count": 140
    }
   ],
   "source": [
    "#age analysis dataframe \n",
    "age_purchase_analysis_df = pd.DataFrame({\"Purchase Count\": age_price_count, \"Average Purchase Price\":average_age_price, \"Total Purchase Value\":age_price_total_count, \"Average Total Purchase per Person\": age_average_per_person}) \n",
    "\n",
    "age_purchase_analysis_df"
   ]
  },
  {
   "cell_type": "markdown",
   "metadata": {},
   "source": [
    "## Top Spenders"
   ]
  },
  {
   "cell_type": "code",
   "execution_count": 141,
   "metadata": {},
   "outputs": [],
   "source": [
    "#group by the SN\n",
    "top_spenders_df = purchase_data_df.groupby(\"SN\")\n",
    "top_spenders_count = top_spenders_df.count()\n",
    "#find IDs of top spenders\n",
    "ascending_top_spenders = top_spenders_count.sort_values(\"Item ID\", ascending= False)\n",
    "ascending_top_spenders_df = ascending_top_spenders[[\"Item ID\"]]\n",
    "#find prices associated with IDs\n",
    "SN_average_purchase=top_spenders_df.mean()\n",
    "top_average_purchase= SN_average_purchase.sort_values(\"Price\", ascending = False)\n",
    "top_average_purchase_df= top_average_purchase[[\"Price\"]]\n",
    "\n",
    "#find total purchases and set to descending\n",
    "sn_total_purchases = top_spenders_df.sum()\n",
    "top_total_purchase = sn_total_purchases.sort_values(\"Price\", ascending = False)\n",
    "top_total_purchase_df = top_total_purchase[[\"Price\"]]\n",
    "#merge IDs and average purchases per ID\n",
    "top_merged = pd.merge(ascending_top_spenders, top_average_purchase_df, on=\"SN\", how=\"outer\")\n",
    "top_merged_renamed = top_merged.rename(columns={\"Item ID\":\"Purchase Count\",\"Price\":\"Average Purchase Price\"})\n"
   ]
  },
  {
   "cell_type": "code",
   "execution_count": 142,
   "metadata": {},
   "outputs": [
    {
     "output_type": "execute_result",
     "data": {
      "text/plain": [
       "             Purchase ID  Age  Gender  Purchase Count  Item Name  Price_x  \\\n",
       "SN                                                                          \n",
       "Lisosia93              5    5       5               5          5        5   \n",
       "Iral74                 4    4       4               4          4        4   \n",
       "Idastidru52            4    4       4               4          4        4   \n",
       "Asur53                 3    3       3               3          3        3   \n",
       "Inguron55              3    3       3               3          3        3   \n",
       "\n",
       "             Age Demographics  Average Purchase Price  Total Purchase value  \n",
       "SN                                                                           \n",
       "Lisosia93                   5                3.792000                 18.96  \n",
       "Iral74                      4                3.405000                 13.62  \n",
       "Idastidru52                 4                3.862500                 15.45  \n",
       "Asur53                      3                2.480000                  7.44  \n",
       "Inguron55                   3                3.703333                 11.11  "
      ],
      "text/html": "<div>\n<style scoped>\n    .dataframe tbody tr th:only-of-type {\n        vertical-align: middle;\n    }\n\n    .dataframe tbody tr th {\n        vertical-align: top;\n    }\n\n    .dataframe thead th {\n        text-align: right;\n    }\n</style>\n<table border=\"1\" class=\"dataframe\">\n  <thead>\n    <tr style=\"text-align: right;\">\n      <th></th>\n      <th>Purchase ID</th>\n      <th>Age</th>\n      <th>Gender</th>\n      <th>Purchase Count</th>\n      <th>Item Name</th>\n      <th>Price_x</th>\n      <th>Age Demographics</th>\n      <th>Average Purchase Price</th>\n      <th>Total Purchase value</th>\n    </tr>\n    <tr>\n      <th>SN</th>\n      <th></th>\n      <th></th>\n      <th></th>\n      <th></th>\n      <th></th>\n      <th></th>\n      <th></th>\n      <th></th>\n      <th></th>\n    </tr>\n  </thead>\n  <tbody>\n    <tr>\n      <th>Lisosia93</th>\n      <td>5</td>\n      <td>5</td>\n      <td>5</td>\n      <td>5</td>\n      <td>5</td>\n      <td>5</td>\n      <td>5</td>\n      <td>3.792000</td>\n      <td>18.96</td>\n    </tr>\n    <tr>\n      <th>Iral74</th>\n      <td>4</td>\n      <td>4</td>\n      <td>4</td>\n      <td>4</td>\n      <td>4</td>\n      <td>4</td>\n      <td>4</td>\n      <td>3.405000</td>\n      <td>13.62</td>\n    </tr>\n    <tr>\n      <th>Idastidru52</th>\n      <td>4</td>\n      <td>4</td>\n      <td>4</td>\n      <td>4</td>\n      <td>4</td>\n      <td>4</td>\n      <td>4</td>\n      <td>3.862500</td>\n      <td>15.45</td>\n    </tr>\n    <tr>\n      <th>Asur53</th>\n      <td>3</td>\n      <td>3</td>\n      <td>3</td>\n      <td>3</td>\n      <td>3</td>\n      <td>3</td>\n      <td>3</td>\n      <td>2.480000</td>\n      <td>7.44</td>\n    </tr>\n    <tr>\n      <th>Inguron55</th>\n      <td>3</td>\n      <td>3</td>\n      <td>3</td>\n      <td>3</td>\n      <td>3</td>\n      <td>3</td>\n      <td>3</td>\n      <td>3.703333</td>\n      <td>11.11</td>\n    </tr>\n  </tbody>\n</table>\n</div>"
     },
     "metadata": {},
     "execution_count": 142
    }
   ],
   "source": [
    "#merge again all with total purchases\n",
    "top_total_merged= pd.merge(top_merged_renamed, top_total_purchase_df, on=\"SN\", how= \"outer\")\n",
    "top_total_merged_renamed= top_total_merged.rename(columns={\"Price\": \"Total Purchase value\", \"Price_y\": \"Average Purchase Price\"})\n",
    "\n",
    "top_total_merged_renamed.head()"
   ]
  },
  {
   "cell_type": "markdown",
   "metadata": {},
   "source": [
    "## Most Popular Items"
   ]
  },
  {
   "cell_type": "code",
   "execution_count": 143,
   "metadata": {},
   "outputs": [],
   "source": [
    "#group by item and item name \n",
    "most_popular_df= purchase_data_df.groupby([\"Item ID\",\"Item Name\"])\n",
    "#count and sort by purchase ID \n",
    "most_popular_purchase_count = most_popular_df.count()\n",
    "most_popular_purchase_count_sorted = most_popular_purchase_count.sort_values(\"Purchase ID\", ascending = False)\n",
    "most_popular_purchase_count_df =most_popular_purchase_count_sorted[[\"Purchase ID\"]]"
   ]
  },
  {
   "cell_type": "code",
   "execution_count": 144,
   "metadata": {},
   "outputs": [],
   "source": [
    "#find average price of most popular items\n",
    "most_popular_items = round(most_popular_df.mean())\n",
    "most_popular_items_sort = most_popular_items.sort_values(\"Price\", ascending = False)\n",
    "\n",
    "most_popular_items_df=most_popular_items_sort [[\"Price\"]]"
   ]
  },
  {
   "cell_type": "code",
   "execution_count": 145,
   "metadata": {},
   "outputs": [],
   "source": [
    "#find total of most popular \n",
    "total_most_popular= most_popular_df.sum()\n",
    "total_most_popular_sorted = total_most_popular.sort_values(\"Price\", ascending= False)\n",
    "\n",
    "total_most_popular_df = total_most_popular_sorted[[\"Price\"]]\n"
   ]
  },
  {
   "cell_type": "code",
   "execution_count": 146,
   "metadata": {},
   "outputs": [],
   "source": [
    "#merge most popular\n",
    "popular_merged_initial = pd.merge(most_popular_purchase_count_df, most_popular_items_df, on=[\"Item ID\",\"Item Name\"], how=\"outer\")"
   ]
  },
  {
   "cell_type": "code",
   "execution_count": 147,
   "metadata": {},
   "outputs": [
    {
     "output_type": "execute_result",
     "data": {
      "text/plain": [
       "                                                      Purchase Count  \\\n",
       "Item ID Item Name                                                      \n",
       "92      Final Critic                                              13   \n",
       "178     Oathbreaker, Last Hope of the Breaking Storm              12   \n",
       "145     Fiery Glass Crusader                                       9   \n",
       "132     Persuasion                                                 9   \n",
       "108     Extraction, Quickblade Of Trembling Hands                  9   \n",
       "\n",
       "                                                      Item Price  \\\n",
       "Item ID Item Name                                                  \n",
       "92      Final Critic                                         5.0   \n",
       "178     Oathbreaker, Last Hope of the Breaking Storm         4.0   \n",
       "145     Fiery Glass Crusader                                 5.0   \n",
       "132     Persuasion                                           3.0   \n",
       "108     Extraction, Quickblade Of Trembling Hands            4.0   \n",
       "\n",
       "                                                      Total Purchase Value  \n",
       "Item ID Item Name                                                           \n",
       "92      Final Critic                                                 59.99  \n",
       "178     Oathbreaker, Last Hope of the Breaking Storm                 50.76  \n",
       "145     Fiery Glass Crusader                                         41.22  \n",
       "132     Persuasion                                                   28.99  \n",
       "108     Extraction, Quickblade Of Trembling Hands                    31.77  "
      ],
      "text/html": "<div>\n<style scoped>\n    .dataframe tbody tr th:only-of-type {\n        vertical-align: middle;\n    }\n\n    .dataframe tbody tr th {\n        vertical-align: top;\n    }\n\n    .dataframe thead th {\n        text-align: right;\n    }\n</style>\n<table border=\"1\" class=\"dataframe\">\n  <thead>\n    <tr style=\"text-align: right;\">\n      <th></th>\n      <th></th>\n      <th>Purchase Count</th>\n      <th>Item Price</th>\n      <th>Total Purchase Value</th>\n    </tr>\n    <tr>\n      <th>Item ID</th>\n      <th>Item Name</th>\n      <th></th>\n      <th></th>\n      <th></th>\n    </tr>\n  </thead>\n  <tbody>\n    <tr>\n      <th>92</th>\n      <th>Final Critic</th>\n      <td>13</td>\n      <td>5.0</td>\n      <td>59.99</td>\n    </tr>\n    <tr>\n      <th>178</th>\n      <th>Oathbreaker, Last Hope of the Breaking Storm</th>\n      <td>12</td>\n      <td>4.0</td>\n      <td>50.76</td>\n    </tr>\n    <tr>\n      <th>145</th>\n      <th>Fiery Glass Crusader</th>\n      <td>9</td>\n      <td>5.0</td>\n      <td>41.22</td>\n    </tr>\n    <tr>\n      <th>132</th>\n      <th>Persuasion</th>\n      <td>9</td>\n      <td>3.0</td>\n      <td>28.99</td>\n    </tr>\n    <tr>\n      <th>108</th>\n      <th>Extraction, Quickblade Of Trembling Hands</th>\n      <td>9</td>\n      <td>4.0</td>\n      <td>31.77</td>\n    </tr>\n  </tbody>\n</table>\n</div>"
     },
     "metadata": {},
     "execution_count": 147
    }
   ],
   "source": [
    "#merge again \n",
    "popular_merged_final = pd.merge(popular_merged_initial, total_most_popular_df, on=[\"Item ID\",\"Item Name\"], how=\"outer\")\n",
    "#rename columes \n",
    "popular_merged_final_renamed = popular_merged_final.rename(columns={\"Purchase ID\":\"Purchase Count\",\"Price_x\":\"Item Price\",\"Price_y\":\"Total Purchase Value\"})\n",
    "popular_merged_final_renamed[\"Item Price\"] = popular_merged_final_renamed[\"Item Price\"]\n",
    "popular_merged_final_renamed[\"Total Purchase Value\"] = popular_merged_final_renamed[\"Total Purchase Value\"]\n",
    "popular_merged_final_renamed.head()\n"
   ]
  },
  {
   "cell_type": "markdown",
   "metadata": {},
   "source": [
    "## Most Profitable Items"
   ]
  },
  {
   "cell_type": "code",
   "execution_count": 148,
   "metadata": {
    "scrolled": true
   },
   "outputs": [
    {
     "output_type": "execute_result",
     "data": {
      "text/plain": [
       "                                                      Price_x  Purchase ID  \\\n",
       "Item ID Item Name                                                            \n",
       "92      Final Critic                                    59.99           13   \n",
       "178     Oathbreaker, Last Hope of the Breaking Storm    50.76           12   \n",
       "82      Nirvana                                         44.10            9   \n",
       "145     Fiery Glass Crusader                            41.22            9   \n",
       "103     Singed Scalpel                                  34.80            8   \n",
       "...                                                       ...          ...   \n",
       "28      Flux, Destroyer of Due Diligence                 2.12            2   \n",
       "125     Whistling Mithril Warblade                       2.00            2   \n",
       "126     Exiled Mithril Longsword                         2.00            1   \n",
       "104     Gladiator's Glaive                               1.93            1   \n",
       "42      The Decapitator                                  1.75            1   \n",
       "\n",
       "                                                      Price_y  \n",
       "Item ID Item Name                                              \n",
       "92      Final Critic                                      5.0  \n",
       "178     Oathbreaker, Last Hope of the Breaking Storm      4.0  \n",
       "82      Nirvana                                           5.0  \n",
       "145     Fiery Glass Crusader                              5.0  \n",
       "103     Singed Scalpel                                    4.0  \n",
       "...                                                       ...  \n",
       "28      Flux, Destroyer of Due Diligence                  1.0  \n",
       "125     Whistling Mithril Warblade                        1.0  \n",
       "126     Exiled Mithril Longsword                          2.0  \n",
       "104     Gladiator's Glaive                                2.0  \n",
       "42      The Decapitator                                   2.0  \n",
       "\n",
       "[179 rows x 3 columns]"
      ],
      "text/html": "<div>\n<style scoped>\n    .dataframe tbody tr th:only-of-type {\n        vertical-align: middle;\n    }\n\n    .dataframe tbody tr th {\n        vertical-align: top;\n    }\n\n    .dataframe thead th {\n        text-align: right;\n    }\n</style>\n<table border=\"1\" class=\"dataframe\">\n  <thead>\n    <tr style=\"text-align: right;\">\n      <th></th>\n      <th></th>\n      <th>Price_x</th>\n      <th>Purchase ID</th>\n      <th>Price_y</th>\n    </tr>\n    <tr>\n      <th>Item ID</th>\n      <th>Item Name</th>\n      <th></th>\n      <th></th>\n      <th></th>\n    </tr>\n  </thead>\n  <tbody>\n    <tr>\n      <th>92</th>\n      <th>Final Critic</th>\n      <td>59.99</td>\n      <td>13</td>\n      <td>5.0</td>\n    </tr>\n    <tr>\n      <th>178</th>\n      <th>Oathbreaker, Last Hope of the Breaking Storm</th>\n      <td>50.76</td>\n      <td>12</td>\n      <td>4.0</td>\n    </tr>\n    <tr>\n      <th>82</th>\n      <th>Nirvana</th>\n      <td>44.10</td>\n      <td>9</td>\n      <td>5.0</td>\n    </tr>\n    <tr>\n      <th>145</th>\n      <th>Fiery Glass Crusader</th>\n      <td>41.22</td>\n      <td>9</td>\n      <td>5.0</td>\n    </tr>\n    <tr>\n      <th>103</th>\n      <th>Singed Scalpel</th>\n      <td>34.80</td>\n      <td>8</td>\n      <td>4.0</td>\n    </tr>\n    <tr>\n      <th>...</th>\n      <th>...</th>\n      <td>...</td>\n      <td>...</td>\n      <td>...</td>\n    </tr>\n    <tr>\n      <th>28</th>\n      <th>Flux, Destroyer of Due Diligence</th>\n      <td>2.12</td>\n      <td>2</td>\n      <td>1.0</td>\n    </tr>\n    <tr>\n      <th>125</th>\n      <th>Whistling Mithril Warblade</th>\n      <td>2.00</td>\n      <td>2</td>\n      <td>1.0</td>\n    </tr>\n    <tr>\n      <th>126</th>\n      <th>Exiled Mithril Longsword</th>\n      <td>2.00</td>\n      <td>1</td>\n      <td>2.0</td>\n    </tr>\n    <tr>\n      <th>104</th>\n      <th>Gladiator's Glaive</th>\n      <td>1.93</td>\n      <td>1</td>\n      <td>2.0</td>\n    </tr>\n    <tr>\n      <th>42</th>\n      <th>The Decapitator</th>\n      <td>1.75</td>\n      <td>1</td>\n      <td>2.0</td>\n    </tr>\n  </tbody>\n</table>\n<p>179 rows × 3 columns</p>\n</div>"
     },
     "metadata": {},
     "execution_count": 148
    }
   ],
   "source": [
    "#merge again \n",
    "profit_merge= pd.merge(total_most_popular_df, most_popular_purchase_count_df, on=[\"Item ID\", \"Item Name\"], how= \"outer\")\n",
    "\n",
    "most_profitable_merge= pd.merge(profit_merge, most_popular_items_df, on= [\"Item ID\", \"Item Name\"], how= \"outer\")\n",
    "most_profitable_merge\n"
   ]
  },
  {
   "cell_type": "code",
   "execution_count": 149,
   "metadata": {},
   "outputs": [
    {
     "output_type": "execute_result",
     "data": {
      "text/plain": [
       "                                                      Total Purcahse Value  \\\n",
       "Item ID Item Name                                                            \n",
       "92      Final Critic                                                 59.99   \n",
       "178     Oathbreaker, Last Hope of the Breaking Storm                 50.76   \n",
       "82      Nirvana                                                      44.10   \n",
       "145     Fiery Glass Crusader                                         41.22   \n",
       "103     Singed Scalpel                                               34.80   \n",
       "\n",
       "                                                      Purchase Count  \\\n",
       "Item ID Item Name                                                      \n",
       "92      Final Critic                                              13   \n",
       "178     Oathbreaker, Last Hope of the Breaking Storm              12   \n",
       "82      Nirvana                                                    9   \n",
       "145     Fiery Glass Crusader                                       9   \n",
       "103     Singed Scalpel                                             8   \n",
       "\n",
       "                                                      Item Price  \n",
       "Item ID Item Name                                                 \n",
       "92      Final Critic                                         5.0  \n",
       "178     Oathbreaker, Last Hope of the Breaking Storm         4.0  \n",
       "82      Nirvana                                              5.0  \n",
       "145     Fiery Glass Crusader                                 5.0  \n",
       "103     Singed Scalpel                                       4.0  "
      ],
      "text/html": "<div>\n<style scoped>\n    .dataframe tbody tr th:only-of-type {\n        vertical-align: middle;\n    }\n\n    .dataframe tbody tr th {\n        vertical-align: top;\n    }\n\n    .dataframe thead th {\n        text-align: right;\n    }\n</style>\n<table border=\"1\" class=\"dataframe\">\n  <thead>\n    <tr style=\"text-align: right;\">\n      <th></th>\n      <th></th>\n      <th>Total Purcahse Value</th>\n      <th>Purchase Count</th>\n      <th>Item Price</th>\n    </tr>\n    <tr>\n      <th>Item ID</th>\n      <th>Item Name</th>\n      <th></th>\n      <th></th>\n      <th></th>\n    </tr>\n  </thead>\n  <tbody>\n    <tr>\n      <th>92</th>\n      <th>Final Critic</th>\n      <td>59.99</td>\n      <td>13</td>\n      <td>5.0</td>\n    </tr>\n    <tr>\n      <th>178</th>\n      <th>Oathbreaker, Last Hope of the Breaking Storm</th>\n      <td>50.76</td>\n      <td>12</td>\n      <td>4.0</td>\n    </tr>\n    <tr>\n      <th>82</th>\n      <th>Nirvana</th>\n      <td>44.10</td>\n      <td>9</td>\n      <td>5.0</td>\n    </tr>\n    <tr>\n      <th>145</th>\n      <th>Fiery Glass Crusader</th>\n      <td>41.22</td>\n      <td>9</td>\n      <td>5.0</td>\n    </tr>\n    <tr>\n      <th>103</th>\n      <th>Singed Scalpel</th>\n      <td>34.80</td>\n      <td>8</td>\n      <td>4.0</td>\n    </tr>\n  </tbody>\n</table>\n</div>"
     },
     "metadata": {},
     "execution_count": 149
    }
   ],
   "source": [
    "#rename\n",
    "most_profitable_merge_rename =most_profitable_merge.rename(columns={\"Price_x\": \"Total Purcahse Value\", \"Purchase ID\": \"Purchase Count\", \"Price_y\":\"Item Price\" })\n",
    "\n",
    "most_profitable_merge_rename.head()"
   ]
  },
  {
   "cell_type": "code",
   "execution_count": null,
   "metadata": {},
   "outputs": [],
   "source": []
  }
 ],
 "metadata": {
  "anaconda-cloud": {},
  "kernel_info": {
   "name": "python3"
  },
  "kernelspec": {
   "name": "python385jvsc74a57bd02ccb00844b9b65699efd6fb0179e31b7fd1233cb7ab4a033b9d4abd8c485d36c",
   "display_name": "Python 3.8.5 64-bit (conda)"
  },
  "language_info": {
   "codemirror_mode": {
    "name": "ipython",
    "version": 3
   },
   "file_extension": ".py",
   "mimetype": "text/x-python",
   "name": "python",
   "nbconvert_exporter": "python",
   "pygments_lexer": "ipython3",
   "version": "3.8.5-final"
  },
  "latex_envs": {
   "LaTeX_envs_menu_present": true,
   "autoclose": false,
   "autocomplete": true,
   "bibliofile": "biblio.bib",
   "cite_by": "apalike",
   "current_citInitial": 1,
   "eqLabelWithNumbers": true,
   "eqNumInitial": 1,
   "hotkeys": {
    "equation": "Ctrl-E",
    "itemize": "Ctrl-I"
   },
   "labels_anchors": false,
   "latex_user_defs": false,
   "report_style_numbering": false,
   "user_envs_cfg": false
  },
  "nteract": {
   "version": "0.2.0"
  }
 },
 "nbformat": 4,
 "nbformat_minor": 2
}